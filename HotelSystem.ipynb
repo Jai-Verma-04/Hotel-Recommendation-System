{
 "cells": [
  {
   "cell_type": "code",
   "execution_count": null,
   "metadata": {},
   "outputs": [],
   "source": [
    "import pandas as pd\n",
    "import random"
   ]
  },
  {
   "cell_type": "code",
   "execution_count": null,
   "metadata": {},
   "outputs": [],
   "source": [
    "hotels = pd.read_csv('hotels.csv')\n",
    "hotels = hotels[['property_name', 'property_address', 'area', 'city','property_type','hotel_star_rating', 'site_review_rating', 'room_types','in_your_room','hotel_overview', 'highlight_value']]\n",
    "for i in range(len(hotels['hotel_star_rating'])):\n",
    "    hotels['hotel_star_rating'][i] = hotels['hotel_star_rating'][0]"
   ]
  },
  {
   "cell_type": "code",
   "execution_count": null,
   "metadata": {},
   "outputs": [],
   "source": [
    "hotels"
   ]
  },
  {
   "cell_type": "code",
   "execution_count": null,
   "metadata": {},
   "outputs": [],
   "source": [
    "lst = []\n",
    "per_night = 0\n",
    "for val in hotels['hotel_star_rating']:\n",
    "    if val == 5:\n",
    "        per_night = random.randint(10000, 15000)\n",
    "        lst = lst.append(per_night)\n",
    "    elif val == 4:\n",
    "        per_night = random.randint(8000, 10000)\n",
    "        lst = lst.append(per_night)\n",
    "    elif val == 3:\n",
    "        per_night = random.randint(6000, 8000)\n",
    "        lst=lst.append(per_night)\n",
    "    elif val == 2:\n",
    "        per_night = random.randint(4000, 6000)\n",
    "        lst = lst.append(per_night)\n",
    "    elif val == 1:\n",
    "        per_night = random.randint(1500, 3500)\n",
    "        lst = lst.append(per_night)\n",
    "    else:\n",
    "        pass\n",
    "    \n",
    "lst.reverse()\n",
    "lst[0:100]"
   ]
  },
  {
   "cell_type": "code",
   "execution_count": null,
   "metadata": {},
   "outputs": [],
   "source": []
  }
 ],
 "metadata": {
  "interpreter": {
   "hash": "126a8d452225dc4b2d79ed14461320291b470027fa37e3881c5c5b0616641f21"
  },
  "kernelspec": {
   "display_name": "Python 3.9.6 64-bit",
   "language": "python",
   "name": "python3"
  },
  "language_info": {
   "codemirror_mode": {
    "name": "ipython",
    "version": 3
   },
   "file_extension": ".py",
   "mimetype": "text/x-python",
   "name": "python",
   "nbconvert_exporter": "python",
   "pygments_lexer": "ipython3",
   "version": "3.9.6"
  },
  "orig_nbformat": 4
 },
 "nbformat": 4,
 "nbformat_minor": 2
}
