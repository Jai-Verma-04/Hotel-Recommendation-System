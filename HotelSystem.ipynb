{
 "cells": [
  {
   "cell_type": "code",
   "execution_count": null,
   "metadata": {},
   "outputs": [],
   "source": [
    "import pandas as pd"
   ]
  },
  {
   "cell_type": "code",
   "execution_count": null,
   "metadata": {},
   "outputs": [],
   "source": [
    "hotels = pd.read_csv('Hotels.csv')"
   ]
  },
  {
   "cell_type": "code",
   "execution_count": null,
   "metadata": {},
   "outputs": [],
   "source": [
    "property_options = hotels['property_type'].unique()\n",
    "city_options = hotels['city'].unique()"
   ]
  },
  {
   "cell_type": "code",
   "execution_count": null,
   "metadata": {},
   "outputs": [],
   "source": [
    "def select_prop_type():\n",
    "    global prop_type\n",
    "    print(\"Enter the type of Hotel you require to stay in\")\n",
    "    print(\"Available options are: \", property_options)\n",
    "    \n",
    "    prop_type = input(\"Enter your choice: \" )\n",
    "    \n",
    "    if prop_type not in property_options:\n",
    "        print(\"\\nInvalid option. Select again\")\n",
    "        select_prop_type()\n",
    "    return prop_type\n",
    "\n",
    "\n",
    "def select_city():\n",
    "    global city\n",
    "    print(\"Please select the city you want to stay in\")\n",
    "    city = input(\"Enter the city: \")\n",
    "    \n",
    "    if city not in city_options:\n",
    "        print(\"\\nInvalid choice.\")\n",
    "        select_city()\n",
    "\n",
    "\n",
    "def select_star_rating():\n",
    "    global star_rating\n",
    "    try:\n",
    "        star_rating = int(input(\"Select the star rating of the hotel: \"))\n",
    "        star_rating = str(star_rating)\n",
    "    except:\n",
    "        print(\"Please enter a number only\")\n",
    "        select_star_rating()\n",
    "    if int(star_rating)<1 and int(star_rating)>5:\n",
    "        print(\"invalid choice\")\n",
    "        select_star_rating()()\n",
    "\n",
    "\n",
    "def select_per_night():\n",
    "    global max_per_night_cost, min_per_night_cost\n",
    "    try:\n",
    "        max_per_night_cost = int(input(\"Enter the maximum per night cost for the hotel: \"))\n",
    "        min_per_night_cost = int(input(\"Enter the minimum per night cost for the hotel: \"))\n",
    "    except:\n",
    "        print(\"Please enter a number only\")\n",
    "        select_per_night()"
   ]
  },
  {
   "cell_type": "code",
   "execution_count": null,
   "metadata": {},
   "outputs": [],
   "source": [
    "\n",
    "print(\"Welcome to Hotel Recommendation System\")\n",
    "print(\"----------------------------------------\")\n",
    "print(\"Answer a few questions below to find the best hotel recommendations for you ->\")\n",
    "\n",
    "select_prop_type()\n",
    "select_city()\n",
    "select_star_rating()\n",
    "select_per_night()\n",
    "hotels[(hotels['property_type']==prop_type) & (hotels['city']==city) & (hotels['star_rating']==star_rating)\\\n",
    "    & (hotels['per_night']>=min_per_night_cost) & (hotels['per_night']<=max_per_night_cost)]\n"
   ]
  }
 ],
 "metadata": {
  "interpreter": {
   "hash": "126a8d452225dc4b2d79ed14461320291b470027fa37e3881c5c5b0616641f21"
  },
  "kernelspec": {
   "display_name": "Python 3.9.6 64-bit",
   "language": "python",
   "name": "python3"
  },
  "language_info": {
   "codemirror_mode": {
    "name": "ipython",
    "version": 3
   },
   "file_extension": ".py",
   "mimetype": "text/x-python",
   "name": "python",
   "nbconvert_exporter": "python",
   "pygments_lexer": "ipython3",
   "version": "3.9.6"
  },
  "orig_nbformat": 4
 },
 "nbformat": 4,
 "nbformat_minor": 2
}
